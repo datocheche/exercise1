{
 "cells": [
  {
   "cell_type": "code",
   "execution_count": 11,
   "id": "c70cdc10",
   "metadata": {},
   "outputs": [],
   "source": [
    "def count_word_occurrences(n, words):\n",
    "    if not 1 <= n <= 10**5:\n",
    "        raise ValueError(\"n must be between 1 and 10^5\")\n",
    "    if sum(len(word) for word in words) > 10**6:\n",
    "        raise ValueError(\"The sum of the lengths of all words must not exceed 10^6\")\n",
    "    if not all(word.islower() for word in words):\n",
    "        raise ValueError(\"All words must be composed of lowercase English letters only\")\n",
    "\n",
    "    counts = {}\n",
    "    distinct_counts = []\n",
    "    for word in words:\n",
    "        if word not in counts:\n",
    "            counts[word] = 1\n",
    "            distinct_counts.append(1)\n",
    "        else:\n",
    "            counts[word] += 1\n",
    "            distinct_counts[counts[word]-2] += 1\n",
    "    return len(distinct_counts), distinct_counts"
   ]
  },
  {
   "cell_type": "code",
   "execution_count": 12,
   "id": "1646a737",
   "metadata": {},
   "outputs": [
    {
     "name": "stdout",
     "output_type": "stream",
     "text": [
      "3\n",
      "2 1 1\n"
     ]
    }
   ],
   "source": [
    "n = 4\n",
    "words = ['bcdef\\n', 'abcdefg\\n', 'bcde\\n', 'bcdef\\n']\n",
    "\n",
    "distinct_count, word_counts = count_word_occurrences(n, words)\n",
    "\n",
    "print(distinct_count)\n",
    "print(*word_counts)"
   ]
  },
  {
   "cell_type": "code",
   "execution_count": null,
   "id": "67eb4206",
   "metadata": {},
   "outputs": [],
   "source": []
  }
 ],
 "metadata": {
  "kernelspec": {
   "display_name": "Python 3 (ipykernel)",
   "language": "python",
   "name": "python3"
  },
  "language_info": {
   "codemirror_mode": {
    "name": "ipython",
    "version": 3
   },
   "file_extension": ".py",
   "mimetype": "text/x-python",
   "name": "python",
   "nbconvert_exporter": "python",
   "pygments_lexer": "ipython3",
   "version": "3.9.12"
  }
 },
 "nbformat": 4,
 "nbformat_minor": 5
}
